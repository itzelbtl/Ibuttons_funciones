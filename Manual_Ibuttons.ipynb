{
 "cells": [
  {
   "cell_type": "markdown",
   "metadata": {},
   "source": [
    "# Manual para el preprocesamiento de los datos de temperatura"
   ]
  },
  {
   "cell_type": "markdown",
   "metadata": {},
   "source": [
    "## Importar funciones"
   ]
  },
  {
   "cell_type": "code",
   "execution_count": null,
   "metadata": {},
   "outputs": [],
   "source": [
    "import time\n",
    "%matplotlib qt\n",
    "inicio = time.perf_counter()\n",
    "from ibutton_funciones import ejecutar_macro, promedio_grupal, generar_archivos_promedios, graficas_sujetos, promedio_dia_noche,generar_archivos_promedio_dia_noche"
   ]
  },
  {
   "cell_type": "markdown",
   "metadata": {},
   "source": [
    "## Generar macros\n",
    "La siguiente función crea archivos que contienen los datos de temperatura organizados en columnas, donde cada columna representa un día."
   ]
  },
  {
   "cell_type": "code",
   "execution_count": null,
   "metadata": {},
   "outputs": [],
   "source": [
    "macros_archivos=ejecutar_macro()"
   ]
  },
  {
   "cell_type": "markdown",
   "metadata": {},
   "source": [
    "# Línea base"
   ]
  },
  {
   "cell_type": "markdown",
   "metadata": {},
   "source": [
    "## Promedio grupal \n",
    "Las siguientes funciones crean archivos y generan gráficos del promedio de temperatura grupal correspondiente a la línea base. \n",
    "\n",
    "Además se generará un gráfico de cada archivo(sujeto)."
   ]
  },
  {
   "cell_type": "code",
   "execution_count": null,
   "metadata": {},
   "outputs": [],
   "source": [
    "promedio_linea_base=promedio_grupal(macros_archivos)\n",
    "archivos_promedio_linea_base=generar_archivos_promedios(promedio_linea_base) \n",
    "graficas_sujetos(archivos_promedio_linea_base,macros_archivos)"
   ]
  },
  {
   "cell_type": "markdown",
   "metadata": {},
   "source": [
    "## Promedio grupal del día y la noche\n",
    "Las siguientes funciones crean archivos y generan gráficos del promedio de temperatura grupal del día y la noche correspondiente a la línea base.  "
   ]
  },
  {
   "cell_type": "code",
   "execution_count": null,
   "metadata": {},
   "outputs": [],
   "source": [
    "graf_promedio_dia_noche=promedio_dia_noche(promedio_linea_base)\n",
    "generar_archivos_promedio_dia_noche(promedio_linea_base,graf_promedio_dia_noche)"
   ]
  },
  {
   "cell_type": "code",
   "execution_count": null,
   "metadata": {},
   "outputs": [],
   "source": [
    "fin = time.perf_counter()\n",
    "tiempo_transcurrido = fin - inicio\n",
    "print(\"Tiempo transcurrido:\", tiempo_transcurrido, \"segundos\")"
   ]
  },
  {
   "cell_type": "markdown",
   "metadata": {},
   "source": [
    "# Fase Experimental"
   ]
  },
  {
   "cell_type": "markdown",
   "metadata": {},
   "source": [
    "## Promedio grupal \n",
    "Las siguientes funciones crean archivos y generan gráficos del promedio de temperatura grupal correspondiente a la fase experimental. \n",
    "\n",
    "Además se generará un gráfico de cada archivo(sujeto)."
   ]
  },
  {
   "cell_type": "code",
   "execution_count": null,
   "metadata": {},
   "outputs": [],
   "source": [
    "promedio_fase_exp=promedio_grupal(macros_archivos)\n",
    "archivos_fase_exp=generar_archivos_promedios(promedio_fase_exp) \n",
    "graficas_sujetos(archivos_fase_exp,macros_archivos)"
   ]
  },
  {
   "cell_type": "markdown",
   "metadata": {},
   "source": [
    "## Promedio grupal del día y la noche\n",
    "Las siguientes funciones crean archivos y generan gráficos del promedio de temperatura grupal del día y la noche correspondiente a la fase experimental.  "
   ]
  },
  {
   "cell_type": "code",
   "execution_count": null,
   "metadata": {},
   "outputs": [],
   "source": [
    "graf_promedio_dia_noche=promedio_dia_noche(promedio_fase_exp)\n",
    "generar_archivos_promedio_dia_noche(promedio_fase_exp,graf_promedio_dia_noche)"
   ]
  },
  {
   "cell_type": "code",
   "execution_count": null,
   "metadata": {},
   "outputs": [],
   "source": []
  }
 ],
 "metadata": {
  "kernelspec": {
   "display_name": "Python 3",
   "language": "python",
   "name": "python3"
  },
  "language_info": {
   "codemirror_mode": {
    "name": "ipython",
    "version": 3
   },
   "file_extension": ".py",
   "mimetype": "text/x-python",
   "name": "python",
   "nbconvert_exporter": "python",
   "pygments_lexer": "ipython3",
   "version": "3.7.6"
  }
 },
 "nbformat": 4,
 "nbformat_minor": 4
}
